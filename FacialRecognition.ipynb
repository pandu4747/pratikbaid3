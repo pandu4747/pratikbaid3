{
 "cells": [
  {
   "cell_type": "code",
   "execution_count": 42,
   "metadata": {},
   "outputs": [],
   "source": [
    "import cv2\n",
    "import numpy as np\n",
    "import matplotlib.pyplot as plt\n",
    "import os\n",
    "%matplotlib inline"
   ]
  },
  {
   "cell_type": "code",
   "execution_count": 43,
   "metadata": {},
   "outputs": [],
   "source": [
    "subjects=[\"\",\"Pratik Baid\",\"Elvis Presley\"]"
   ]
  },
  {
   "cell_type": "code",
   "execution_count": 88,
   "metadata": {},
   "outputs": [],
   "source": [
    "def detect_face(img):\n",
    "    gray=cv2.cvtColor(img,cv2.COLOR_BGR2GRAY)\n",
    "    face_cascade=cv2.CascadeClassifier('Cascades/lbpcascade_frontalface.xml')\n",
    "    faces=face_cascade.detectMultiScale(gray,scaleFactor=1.2,minNeighbors=5)\n",
    "    if(len(faces)==0):\n",
    "        return None,None\n",
    "    (x,y,w,h)=faces[0]\n",
    "    return gray[y:y+w,x:x+h],faces[0]"
   ]
  },
  {
   "cell_type": "code",
   "execution_count": 89,
   "metadata": {},
   "outputs": [],
   "source": [
    "def prepare_training_data(data_folder_path):\n",
    "    dirs=os.listdir(data_folder_path)\n",
    "    faces=[]\n",
    "    labels=[]\n",
    "    for dir_name in dirs:\n",
    "        if not dir_name.startswith(\"s\"):\n",
    "            continue\n",
    "        label=int(dir_name.replace(\"s\",\"\"))\n",
    "        subject_dir_path=data_folder_path+\"/\"+dir_name\n",
    "        subject_images_names=os.listdir(subject_dir_path)\n",
    "        \n",
    "        for image_name in subject_images_names:\n",
    "            if image_name.startswith(\".\"):\n",
    "                continue\n",
    "            image_path=subject_dir_path+\"/\"+image_name\n",
    "            print(image_path)\n",
    "            image=cv2.imread(image_path)\n",
    "            cv2.imshow(\"Training on image...\",image)\n",
    "            cv2.waitKey(100)"
   ]
  },
  {
   "cell_type": "code",
   "execution_count": 107,
   "metadata": {},
   "outputs": [],
   "source": [
    "image,label=detect_face(cv2.imread('training-data/s1/12.jpg'))"
   ]
  },
  {
   "cell_type": "code",
   "execution_count": null,
   "metadata": {},
   "outputs": [],
   "source": []
  },
  {
   "cell_type": "code",
   "execution_count": null,
   "metadata": {},
   "outputs": [],
   "source": []
  }
 ],
 "metadata": {
  "kernelspec": {
   "display_name": "Python 3",
   "language": "python",
   "name": "python3"
  },
  "language_info": {
   "codemirror_mode": {
    "name": "ipython",
    "version": 3
   },
   "file_extension": ".py",
   "mimetype": "text/x-python",
   "name": "python",
   "nbconvert_exporter": "python",
   "pygments_lexer": "ipython3",
   "version": "3.7.4"
  }
 },
 "nbformat": 4,
 "nbformat_minor": 4
}
